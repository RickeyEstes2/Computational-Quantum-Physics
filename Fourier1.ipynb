{
  "nbformat": 4,
  "nbformat_minor": 0,
  "metadata": {
    "colab": {
      "provenance": [],
      "authorship_tag": "ABX9TyNMzJp6RVTwSwZhUp0SDNJ6",
      "include_colab_link": true
    },
    "kernelspec": {
      "name": "python3",
      "display_name": "Python 3"
    },
    "language_info": {
      "name": "python"
    }
  },
  "cells": [
    {
      "cell_type": "markdown",
      "metadata": {
        "id": "view-in-github",
        "colab_type": "text"
      },
      "source": [
        "<a href=\"https://colab.research.google.com/github/RickeyEstes2/Computational-Quantum-Physics/blob/main/Fourier1.ipynb\" target=\"_parent\"><img src=\"https://colab.research.google.com/assets/colab-badge.svg\" alt=\"Open In Colab\"/></a>"
      ]
    },
    {
      "cell_type": "markdown",
      "source": [
        "Fourier transform from momentum space into position space:\n",
        "\n",
        "The Fourier transform from momentum space into position space is given by:\n",
        "\n",
        "$$\\mathcal{F} \\left[ \\hat{f}(p) \\right] = \\frac{1}{\\sqrt{2 \\pi}} \\int_{-\\infty}^{\\infty} \\hat{f}(p) \\ e^{-i x p} \\ dp$$\n",
        "\n",
        "where $\\hat{f}(p)$ is the Fourier transform of a function $f(x)$ in momentum space, $x$ is the position, and $p$ is the momentum.\n",
        "\n",
        "The integral is evaluated by first splitting it into two parts:\n",
        "\n",
        "$$\\mathcal{F} \\left[ \\hat{f}(p) \\right] = \\frac{1}{\\sqrt{2 \\pi}} \\left( \\int_{-\\infty}^0 \\hat{f}(p) \\ e^{-i x p} \\ dp + \\int_0^{\\infty} \\hat{f}(p) \\ e^{-i x p} \\ dp \\right)$$\n",
        "\n",
        "Then, using integration by parts, we can evaluate each of the integrals:\n",
        "\n",
        "$$\\int_{-\\infty}^0 \\hat{f}(p) \\ e^{-i x p} \\ dp = - \\frac{e^{-i x p}}{i x} \\hat{f}(p) \\bigg|_{-\\infty}^0 + \\frac{1}{i x} \\int_{-\\infty}^0 \\frac{d \\hat{f}(p)}{dp} \\ e^{-i x p} \\ dp$$\n",
        "\n",
        "$$\\int_0^{\\infty} \\hat{f}(p) \\ e^{-i x p} \\ dp = \\frac{e^{-i x p}}{i x} \\hat{f}(p) \\bigg|_0^{\\infty} + \\frac{1}{i x} \\int_0^{\\infty} \\frac{d \\hat{f}(p)}{dp} \\ e^{-i x p} \\ dp$$\n",
        "\n",
        "Substituting these expressions into the original integral, we have:\n",
        "\n",
        "$$\\mathcal{F} \\left[ \\hat{f}(p) \\right] = \\frac{1}{\\sqrt{2 \\pi}} \\left( - \\frac{e^{-i x p}}{i x} \\hat{f}(p) \\bigg|_{-\\infty}^0 + \\frac{1}{i x} \\int_{-\\infty}^0 \\frac{d \\hat{f}(p)}{dp} \\ e^{-i x p} \\ dp + \\frac{e^{-i x p}}{i x} \\hat{f}(p) \\bigg|_0^{\\infty} + \\frac{1}{i x} \\int_0^{\\infty} \\frac{d \\hat{f}(p)}{dp} \\ e^{-i x p} \\ dp \\right)$$\n",
        "\n",
        "The first two terms on the right-hand side of the equation vanish, since $\\hat{f}(p)$ is assumed to be zero for $p \\rightarrow \\pm \\infty$. Therefore, the Fourier transform from momentum space into position space is given by:\n",
        "\n",
        "$$\\mathcal{F} \\left[ \\hat{f}(p) \\right] = \\frac{1}{i x \\sqrt{2 \\pi}} \\left( \\int_{-\\infty}^0 \\frac{d \\hat{f}(p)}{dp} \\ e^{-i x p} \\ dp + \\int_0^{\\infty} \\frac{d \\hat{f}(p)}{dp} \\ e^{-i x p} \\ dp \\right)$$\n",
        "\n",
        "Fourier transform from position space into momentum space:\n",
        "\n",
        "The Fourier transform from position space into momentum space is given by:\n",
        "\n",
        "$$\\mathcal{F} \\left[ f(x) \\right] = \\frac{1}{\\sqrt{2 \\pi}} \\int_{-\\infty}^{\\infty} f(x) \\ e^{i x p} \\ dx$$\n",
        "\n",
        "where $f(x)$ is the Fourier transform of a function $\\hat{f}(p)$ in position space, $x$ is the position,"
      ],
      "metadata": {
        "id": "4QucK7wj1urt"
      }
    }
  ]
}